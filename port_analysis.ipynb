{
 "cells": [
  {
   "cell_type": "code",
   "execution_count": 1,
   "metadata": {
    "collapsed": true
   },
   "outputs": [],
   "source": [
    "import pandas as pd\n",
    "import numpy as np\n",
    "%matplotlib inline\n",
    "import matplotlib.pyplot as plt\n",
    "import seaborn as sbs\n",
    "import datetime\n",
    "from datetime import timedelta"
   ]
  },
  {
   "cell_type": "code",
   "execution_count": 2,
   "metadata": {
    "collapsed": true
   },
   "outputs": [],
   "source": [
    "port_start_date = \"2017/6/1\"\n",
    "now = \"2018/2/26\"\n",
    "index = pd.bdate_range(port_start_date, now)"
   ]
  },
  {
   "cell_type": "code",
   "execution_count": 3,
   "metadata": {
    "collapsed": true
   },
   "outputs": [],
   "source": [
    "# tickers' last date 2/23/2017\n",
    "tickers_list = [\"ADM\", \"APO\", \"CG\", \"CHKP\", \"FEYE\", \"FTI\", \"GEVO\", \n",
    "                \"GLD\", \"GPRO\", \"GRMN\", \"HPE\", \"IBM\", \"INTC\", \"JASO\", \n",
    "                \"JNPR\", \"QCOM\", \"SGOL\", \"SWM\", \"TM\", \"VEA\", \"VGIT\", \n",
    "                \"VGK\", \"VGLT\", \"VGSH\", \"VGT\", \"VOO\", \"VT\", \"VTI\"]"
   ]
  },
  {
   "cell_type": "code",
   "execution_count": 4,
   "metadata": {
    "collapsed": true
   },
   "outputs": [],
   "source": [
    "def read_file(file_list):\n",
    "    path = \"C:/Users/pc/Desktop/portfolio_data/CSVs/\"\n",
    "    df = pd.DataFrame(index=index)\n",
    "    for file in file_list:\n",
    "        # using only \"date\" and \"Adj Close\" columns  \n",
    "        data = pd.read_csv(path + file + \".csv\", index_col=0, parse_dates=True, usecols=[0, 5]) \n",
    "        data = data.rename(columns={\"Adj Close\": file})\n",
    "        # change anything which is not a float to NaN\n",
    "        data = pd.to_numeric(data[file], errors=\"coerce\")\n",
    "        df = df.join(data, how=\"inner\")\n",
    "        df = df.dropna()\n",
    "    return df"
   ]
  },
  {
   "cell_type": "code",
   "execution_count": 390,
   "metadata": {
    "collapsed": true
   },
   "outputs": [],
   "source": [
    "df_stock_prices = read_file(tickers_list)"
   ]
  },
  {
   "cell_type": "code",
   "execution_count": 391,
   "metadata": {
    "collapsed": true
   },
   "outputs": [],
   "source": [
    "df = pd.DataFrame(np.zeros((len(df_stock_prices.index), len(tickers_list))), \n",
    "                  index=df_stock_prices.index, columns=tickers_list)"
   ]
  },
  {
   "cell_type": "code",
   "execution_count": 392,
   "metadata": {
    "collapsed": true
   },
   "outputs": [],
   "source": [
    "df[\"ADM\"].loc[\"7/10/2017\":] = 2\n",
    "df[\"APO\"].loc[\"7/21/2017\":] = 2\n",
    "df[\"CG\"].loc[\"7/21/2017\":] = 2\n",
    "df[\"CHKP\"].loc[\"9/15/2017\":] = 1\n",
    "df[\"FEYE\"].loc[\"1/16/2018\":] = 1\n",
    "df[\"FTI\"].loc[\"6/21/2017\":\"8/23/2017\"] = 4 \n",
    "df[\"GEVO\"].loc[\"6/22/2017\":\"8/24/2017\"] = 50\n",
    "df[\"GLD\"].loc[\"11/3/2017\":] = 1\n",
    "df[\"GPRO\"].loc[\"1/16/2018\":] = 10\n",
    "df[\"GRMN\"].loc[\"6/16/2017\":] = 3\n",
    "df[\"HPE\"].loc[\"1/4/2018\":] = 1\n",
    "df[\"IBM\"].loc[\"9/20/2017\":] = 1\n",
    "df[\"INTC\"].loc[\"7/10/2017\":\"1/7/2018\"] = 2\n",
    "df[\"JASO\"].loc[\"6/23/2017\":\"9/14/2017\"] = 5\n",
    "df[\"JASO\"].loc[\"9/15/2017\":] = 10\n",
    "df[\"JNPR\"].loc[\"9/15/2017\":] = 2\n",
    "df[\"QCOM\"].loc[\"7/10/2017\":] = 2\n",
    "df[\"SGOL\"].loc[\"11/3/2017\":] = 1\n",
    "df[\"SWM\"].loc[\"7/10/2017\":] = 2\n",
    "df[\"TM\"].loc[\"6/5/2017\":] = 2\n",
    "df[\"VEA\"].loc[\"10/24/2017\":] = 2 \n",
    "df[\"VGIT\"].loc[\"8/10/2017\":\"10/23/2017\"] = 5\n",
    "df[\"VGK\"].loc[\"10/24/2017\"] = 2\n",
    "df[\"VGLT\"].loc[\"8/10/2017\":\"9/27/2017\"] = 5\n",
    "df[\"VGLT\"].loc[\"9/28/2017\":\"10/23/2017\"] = 6\n",
    "df[\"VGLT\"].loc[\"10/24/2017\"] = 1\n",
    "df[\"VGLT\"].loc[\"10/25/2017\"] = 8\n",
    "df[\"VGLT\"].loc[\"10/26/2017\":] = 6\n",
    "df[\"VGSH\"].loc[\"8/10/2017\":\"9/20/2017\"] = 3\n",
    "df[\"VGSH\"].loc[\"9/28/2017\":\"10/23/2017\"] = 1\n",
    "df[\"VGT\"].loc[\"10/24/2017\"] = 1\n",
    "df[\"VOO\"].loc[\"10/24/2017\":] = 1\n",
    "df[\"VT\"].loc[\"10/24/2017\"] = 1\n",
    "df[\"VTI\"].loc[\"9/20/2017\":\"10/23/2017\"] = 1\n",
    "df[\"VTI\"].loc[\"10/24/2017\"] = 2"
   ]
  },
  {
   "cell_type": "code",
   "execution_count": 393,
   "metadata": {},
   "outputs": [
    {
     "data": {
      "text/html": [
       "<div>\n",
       "<style>\n",
       "    .dataframe thead tr:only-child th {\n",
       "        text-align: right;\n",
       "    }\n",
       "\n",
       "    .dataframe thead th {\n",
       "        text-align: left;\n",
       "    }\n",
       "\n",
       "    .dataframe tbody tr th {\n",
       "        vertical-align: top;\n",
       "    }\n",
       "</style>\n",
       "<table border=\"1\" class=\"dataframe\">\n",
       "  <thead>\n",
       "    <tr style=\"text-align: right;\">\n",
       "      <th></th>\n",
       "      <th>ADM</th>\n",
       "      <th>APO</th>\n",
       "      <th>CG</th>\n",
       "      <th>CHKP</th>\n",
       "      <th>FEYE</th>\n",
       "      <th>FTI</th>\n",
       "      <th>GEVO</th>\n",
       "      <th>GLD</th>\n",
       "      <th>GPRO</th>\n",
       "      <th>GRMN</th>\n",
       "      <th>...</th>\n",
       "      <th>TM</th>\n",
       "      <th>VEA</th>\n",
       "      <th>VGIT</th>\n",
       "      <th>VGK</th>\n",
       "      <th>VGLT</th>\n",
       "      <th>VGSH</th>\n",
       "      <th>VGT</th>\n",
       "      <th>VOO</th>\n",
       "      <th>VT</th>\n",
       "      <th>VTI</th>\n",
       "    </tr>\n",
       "  </thead>\n",
       "  <tbody>\n",
       "    <tr>\n",
       "      <th>2017-06-01</th>\n",
       "      <td>0.0</td>\n",
       "      <td>0.0</td>\n",
       "      <td>0.0</td>\n",
       "      <td>0.0</td>\n",
       "      <td>0.0</td>\n",
       "      <td>0.0</td>\n",
       "      <td>0.0</td>\n",
       "      <td>0.0</td>\n",
       "      <td>0.0</td>\n",
       "      <td>0.0</td>\n",
       "      <td>...</td>\n",
       "      <td>0.00</td>\n",
       "      <td>0.0</td>\n",
       "      <td>0.0</td>\n",
       "      <td>0.0</td>\n",
       "      <td>0.0</td>\n",
       "      <td>0.0</td>\n",
       "      <td>0.0</td>\n",
       "      <td>0.0</td>\n",
       "      <td>0.0</td>\n",
       "      <td>0.0</td>\n",
       "    </tr>\n",
       "    <tr>\n",
       "      <th>2017-06-02</th>\n",
       "      <td>0.0</td>\n",
       "      <td>0.0</td>\n",
       "      <td>0.0</td>\n",
       "      <td>0.0</td>\n",
       "      <td>0.0</td>\n",
       "      <td>0.0</td>\n",
       "      <td>0.0</td>\n",
       "      <td>0.0</td>\n",
       "      <td>0.0</td>\n",
       "      <td>0.0</td>\n",
       "      <td>...</td>\n",
       "      <td>0.00</td>\n",
       "      <td>0.0</td>\n",
       "      <td>0.0</td>\n",
       "      <td>0.0</td>\n",
       "      <td>0.0</td>\n",
       "      <td>0.0</td>\n",
       "      <td>0.0</td>\n",
       "      <td>0.0</td>\n",
       "      <td>0.0</td>\n",
       "      <td>0.0</td>\n",
       "    </tr>\n",
       "    <tr>\n",
       "      <th>2017-06-05</th>\n",
       "      <td>0.0</td>\n",
       "      <td>0.0</td>\n",
       "      <td>0.0</td>\n",
       "      <td>0.0</td>\n",
       "      <td>0.0</td>\n",
       "      <td>0.0</td>\n",
       "      <td>0.0</td>\n",
       "      <td>0.0</td>\n",
       "      <td>0.0</td>\n",
       "      <td>0.0</td>\n",
       "      <td>...</td>\n",
       "      <td>215.52</td>\n",
       "      <td>0.0</td>\n",
       "      <td>0.0</td>\n",
       "      <td>0.0</td>\n",
       "      <td>0.0</td>\n",
       "      <td>0.0</td>\n",
       "      <td>0.0</td>\n",
       "      <td>0.0</td>\n",
       "      <td>0.0</td>\n",
       "      <td>0.0</td>\n",
       "    </tr>\n",
       "    <tr>\n",
       "      <th>2017-06-06</th>\n",
       "      <td>0.0</td>\n",
       "      <td>0.0</td>\n",
       "      <td>0.0</td>\n",
       "      <td>0.0</td>\n",
       "      <td>0.0</td>\n",
       "      <td>0.0</td>\n",
       "      <td>0.0</td>\n",
       "      <td>0.0</td>\n",
       "      <td>0.0</td>\n",
       "      <td>0.0</td>\n",
       "      <td>...</td>\n",
       "      <td>215.60</td>\n",
       "      <td>0.0</td>\n",
       "      <td>0.0</td>\n",
       "      <td>0.0</td>\n",
       "      <td>0.0</td>\n",
       "      <td>0.0</td>\n",
       "      <td>0.0</td>\n",
       "      <td>0.0</td>\n",
       "      <td>0.0</td>\n",
       "      <td>0.0</td>\n",
       "    </tr>\n",
       "    <tr>\n",
       "      <th>2017-06-07</th>\n",
       "      <td>0.0</td>\n",
       "      <td>0.0</td>\n",
       "      <td>0.0</td>\n",
       "      <td>0.0</td>\n",
       "      <td>0.0</td>\n",
       "      <td>0.0</td>\n",
       "      <td>0.0</td>\n",
       "      <td>0.0</td>\n",
       "      <td>0.0</td>\n",
       "      <td>0.0</td>\n",
       "      <td>...</td>\n",
       "      <td>215.06</td>\n",
       "      <td>0.0</td>\n",
       "      <td>0.0</td>\n",
       "      <td>0.0</td>\n",
       "      <td>0.0</td>\n",
       "      <td>0.0</td>\n",
       "      <td>0.0</td>\n",
       "      <td>0.0</td>\n",
       "      <td>0.0</td>\n",
       "      <td>0.0</td>\n",
       "    </tr>\n",
       "  </tbody>\n",
       "</table>\n",
       "<p>5 rows × 28 columns</p>\n",
       "</div>"
      ],
      "text/plain": [
       "            ADM  APO   CG  CHKP  FEYE  FTI  GEVO  GLD  GPRO  GRMN ...   \\\n",
       "2017-06-01  0.0  0.0  0.0   0.0   0.0  0.0   0.0  0.0   0.0   0.0 ...    \n",
       "2017-06-02  0.0  0.0  0.0   0.0   0.0  0.0   0.0  0.0   0.0   0.0 ...    \n",
       "2017-06-05  0.0  0.0  0.0   0.0   0.0  0.0   0.0  0.0   0.0   0.0 ...    \n",
       "2017-06-06  0.0  0.0  0.0   0.0   0.0  0.0   0.0  0.0   0.0   0.0 ...    \n",
       "2017-06-07  0.0  0.0  0.0   0.0   0.0  0.0   0.0  0.0   0.0   0.0 ...    \n",
       "\n",
       "                TM  VEA  VGIT  VGK  VGLT  VGSH  VGT  VOO   VT  VTI  \n",
       "2017-06-01    0.00  0.0   0.0  0.0   0.0   0.0  0.0  0.0  0.0  0.0  \n",
       "2017-06-02    0.00  0.0   0.0  0.0   0.0   0.0  0.0  0.0  0.0  0.0  \n",
       "2017-06-05  215.52  0.0   0.0  0.0   0.0   0.0  0.0  0.0  0.0  0.0  \n",
       "2017-06-06  215.60  0.0   0.0  0.0   0.0   0.0  0.0  0.0  0.0  0.0  \n",
       "2017-06-07  215.06  0.0   0.0  0.0   0.0   0.0  0.0  0.0  0.0  0.0  \n",
       "\n",
       "[5 rows x 28 columns]"
      ]
     },
     "execution_count": 393,
     "metadata": {},
     "output_type": "execute_result"
    }
   ],
   "source": [
    "positions = df * df_stock_prices\n",
    "positions = positions.round(2)\n",
    "positions.head()"
   ]
  },
  {
   "cell_type": "code",
   "execution_count": 394,
   "metadata": {},
   "outputs": [],
   "source": [
    "df = pd.DataFrame(np.zeros((len(df_stock_prices.index), len(tickers_list))), \n",
    "                  index=df_stock_prices.index, columns=tickers_list)\n",
    "df[\"ADM\"].loc[\"7/10/2017\"] = -2\n",
    "df[\"APO\"].loc[\"7/21/2017\"] = -2\n",
    "df[\"CG\"].loc[\"7/21/2017\"] = -2\n",
    "df[\"CHKP\"].loc[\"9/15/2017\"] = -1\n",
    "df[\"FEYE\"].loc[\"1/16/2018\"] = -1\n",
    "df[\"FTI\"].loc[\"6/21/2017\"] = -4\n",
    "df[\"FTI\"].loc[\"8/24/2017\"] = 4 \n",
    "df[\"GEVO\"].loc[\"6/22/2017\"] = -50\n",
    "df[\"GEVO\"].loc[\"8/25/2017\"] = 50\n",
    "df[\"GLD\"].loc[\"11/3/2017\"] = -1\n",
    "df[\"GPRO\"].loc[\"1/16/2018\"] = -10\n",
    "df[\"GRMN\"].loc[\"6/16/2017\"] = -3\n",
    "df[\"HPE\"].loc[\"1/4/2018\"] = -1\n",
    "df[\"IBM\"].loc[\"9/20/2017\"] = -1\n",
    "df[\"INTC\"].loc[\"7/10/2017\"] = -2\n",
    "df[\"INTC\"].loc[\"1/8/2018\"] = 2\n",
    "df[\"JASO\"].loc[\"6/23/2017\"] = -5\n",
    "df[\"JASO\"].loc[\"9/15/2017\"] = -5\n",
    "df[\"JNPR\"].loc[\"9/15/2017\"] = -2\n",
    "df[\"QCOM\"].loc[\"7/10/2017\"] = -2\n",
    "df[\"SGOL\"].loc[\"11/3/2017\"] = -1\n",
    "df[\"SWM\"].loc[\"7/10/2017\"] = -2\n",
    "df[\"TM\"].loc[\"6/5/2017\"] = -2\n",
    "df[\"VEA\"].loc[\"10/24/2017\"] = -2 \n",
    "df[\"VGIT\"].loc[\"8/10/2017\"] = -5\n",
    "df[\"VGIT\"].loc[\"10/24/2017\"] = 5\n",
    "df[\"VGK\"].loc[\"10/24/2017\"] = -2\n",
    "df[\"VGK\"].loc[\"10/25/2017\"] = 2\n",
    "df[\"VGLT\"].loc[\"8/10/2017\"] = -5\n",
    "df[\"VGLT\"].loc[\"9/28/2017\"] = -1\n",
    "df[\"VGLT\"].loc[\"10/24/2017\"] = 5\n",
    "df[\"VGLT\"].loc[\"10/25/2017\"] = -7\n",
    "df[\"VGLT\"].loc[\"10/26/2017\"] = 2\n",
    "df[\"VGSH\"].loc[\"8/10/2017\"] = -3\n",
    "df[\"VGSH\"].loc[\"9/21/2017\"] = 3\n",
    "df[\"VGSH\"].loc[\"9/28/2017\"] = -1\n",
    "df[\"VGSH\"].loc[\"10/24/2017\"] = 1\n",
    "df[\"VGT\"].loc[\"10/24/2017\"] = -1\n",
    "df[\"VGT\"].loc[\"10/25/2017\"] = 1\n",
    "df[\"VOO\"].loc[\"10/24/2017\"] = -1\n",
    "df[\"VT\"].loc[\"10/24/2017\"] = -1\n",
    "df[\"VT\"].loc[\"10/25/2017\"] = 1\n",
    "df[\"VTI\"].loc[\"9/20/2017\"] = -1\n",
    "df[\"VTI\"].loc[\"10/24/2017\"] = -1\n",
    "df[\"VTI\"].loc[\"10/25/2017\"] = 2\n"
   ]
  },
  {
   "cell_type": "code",
   "execution_count": 395,
   "metadata": {},
   "outputs": [
    {
     "data": {
      "text/plain": [
       "ADM       0.000000\n",
       "APO       0.000000\n",
       "CG        0.000000\n",
       "CHKP      0.000000\n",
       "FEYE      0.000000\n",
       "FTI       0.000000\n",
       "GEVO      0.000000\n",
       "GLD       0.000000\n",
       "GPRO      0.000000\n",
       "GRMN      0.000000\n",
       "HPE       0.000000\n",
       "IBM       0.000000\n",
       "INTC      0.000000\n",
       "JASO      0.000000\n",
       "JNPR      0.000000\n",
       "QCOM      0.000000\n",
       "SGOL      0.000000\n",
       "SWM       0.000000\n",
       "TM        0.000000\n",
       "VEA       0.000000\n",
       "VGIT      0.000000\n",
       "VGK     115.721146\n",
       "VGLT   -525.929369\n",
       "VGSH      0.000000\n",
       "VGT     156.883804\n",
       "VOO       0.000000\n",
       "VT       71.197067\n",
       "VTI     261.517700\n",
       "Cash     79.390348\n",
       "Name: 2017-10-25 00:00:00, dtype: float64"
      ]
     },
     "execution_count": 395,
     "metadata": {},
     "output_type": "execute_result"
    }
   ],
   "source": [
    "take_exit = df * df_stock_prices\n",
    "take_exit[\"Cash\"] = take_exit.sum(axis=1)\n",
    "take_exit.loc[take_exit.index[0], \"Cash\"] = 2200\n",
    "dividends = pd.read_csv(\"dividends.csv\", index_col=0, usecols=[\"Date\", \"Total\"], parse_dates=True)\n",
    "take_exit[\"Cash\"] += dividends[\"Total\"]\n",
    "take_exit.loc['2017-10-25']"
   ]
  },
  {
   "cell_type": "code",
   "execution_count": 396,
   "metadata": {},
   "outputs": [
    {
     "data": {
      "text/plain": [
       "2017-06-01    2200.000000\n",
       "2017-06-02    2200.000000\n",
       "2017-06-05    1984.479996\n",
       "2017-06-06    1984.479996\n",
       "2017-06-07    1984.479996\n",
       "2017-06-08    1984.479996\n",
       "2017-06-09    1984.479996\n",
       "2017-06-12    1984.479996\n",
       "2017-06-13    1984.479996\n",
       "2017-06-14    1984.479996\n",
       "2017-06-15    1984.479996\n",
       "2017-06-16    1835.966367\n",
       "2017-06-19    1835.966367\n",
       "2017-06-20    1835.966367\n",
       "2017-06-21    1730.523823\n",
       "2017-06-22    1701.023823\n",
       "2017-06-23    1668.823823\n",
       "2017-06-26    1668.823823\n",
       "2017-06-27    1668.823823\n",
       "2017-06-28    1668.823823\n",
       "2017-06-29    1668.823823\n",
       "2017-06-30    1671.043823\n",
       "2017-07-03    1671.043823\n",
       "2017-07-05    1671.043823\n",
       "2017-07-06    1671.043823\n",
       "2017-07-07    1671.043823\n",
       "2017-07-10    1344.377563\n",
       "2017-07-11    1344.377563\n",
       "2017-07-12    1344.377563\n",
       "2017-07-13    1344.377563\n",
       "                 ...     \n",
       "2018-01-11     107.297836\n",
       "2018-01-12     107.297836\n",
       "2018-01-16      28.667836\n",
       "2018-01-17      28.667836\n",
       "2018-01-18      28.667836\n",
       "2018-01-19      28.667836\n",
       "2018-01-22      28.667836\n",
       "2018-01-23      28.667836\n",
       "2018-01-24      28.667836\n",
       "2018-01-25      28.667836\n",
       "2018-01-26      28.667836\n",
       "2018-01-29      28.667836\n",
       "2018-01-30      28.667836\n",
       "2018-01-31      28.677836\n",
       "2018-02-01      28.677836\n",
       "2018-02-02      28.677836\n",
       "2018-02-05      28.677836\n",
       "2018-02-06      29.637836\n",
       "2018-02-07      29.637836\n",
       "2018-02-08      29.637836\n",
       "2018-02-09      29.637836\n",
       "2018-02-12      29.637836\n",
       "2018-02-13      29.637836\n",
       "2018-02-14      29.637836\n",
       "2018-02-15      29.637836\n",
       "2018-02-16      29.637836\n",
       "2018-02-20      29.637836\n",
       "2018-02-21      29.637836\n",
       "2018-02-22      29.637836\n",
       "2018-02-23      29.637836\n",
       "Name: Cash, Length: 185, dtype: float64"
      ]
     },
     "execution_count": 396,
     "metadata": {},
     "output_type": "execute_result"
    }
   ],
   "source": [
    "take_exit[\"Cash\"] = np.cumsum(np.array(take_exit[\"Cash\"]))\n",
    "take_exit[\"Cash\"]"
   ]
  },
  {
   "cell_type": "code",
   "execution_count": 397,
   "metadata": {
    "collapsed": true
   },
   "outputs": [],
   "source": [
    "positions[\"Cash\"] = take_exit[\"Cash\"]\n",
    "positions = positions.rename(columns={\"Cash\":\"Cash+Dividends\"})\n",
    "positions[\"Portfolio\"] = positions.sum(1)"
   ]
  },
  {
   "cell_type": "code",
   "execution_count": 398,
   "metadata": {},
   "outputs": [
    {
     "data": {
      "text/html": [
       "<div>\n",
       "<style>\n",
       "    .dataframe thead tr:only-child th {\n",
       "        text-align: right;\n",
       "    }\n",
       "\n",
       "    .dataframe thead th {\n",
       "        text-align: left;\n",
       "    }\n",
       "\n",
       "    .dataframe tbody tr th {\n",
       "        vertical-align: top;\n",
       "    }\n",
       "</style>\n",
       "<table border=\"1\" class=\"dataframe\">\n",
       "  <thead>\n",
       "    <tr style=\"text-align: right;\">\n",
       "      <th></th>\n",
       "      <th>ADM</th>\n",
       "      <th>APO</th>\n",
       "      <th>CG</th>\n",
       "      <th>CHKP</th>\n",
       "      <th>FEYE</th>\n",
       "      <th>FTI</th>\n",
       "      <th>GEVO</th>\n",
       "      <th>GLD</th>\n",
       "      <th>GPRO</th>\n",
       "      <th>GRMN</th>\n",
       "      <th>...</th>\n",
       "      <th>VGIT</th>\n",
       "      <th>VGK</th>\n",
       "      <th>VGLT</th>\n",
       "      <th>VGSH</th>\n",
       "      <th>VGT</th>\n",
       "      <th>VOO</th>\n",
       "      <th>VT</th>\n",
       "      <th>VTI</th>\n",
       "      <th>Cash+Dividends</th>\n",
       "      <th>Portfolio</th>\n",
       "    </tr>\n",
       "  </thead>\n",
       "  <tbody>\n",
       "    <tr>\n",
       "      <th>2017-06-01</th>\n",
       "      <td>0.0</td>\n",
       "      <td>0.0</td>\n",
       "      <td>0.0</td>\n",
       "      <td>0.0</td>\n",
       "      <td>0.0</td>\n",
       "      <td>0.0</td>\n",
       "      <td>0.0</td>\n",
       "      <td>0.0</td>\n",
       "      <td>0.0</td>\n",
       "      <td>0.0</td>\n",
       "      <td>...</td>\n",
       "      <td>0.0</td>\n",
       "      <td>0.0</td>\n",
       "      <td>0.0</td>\n",
       "      <td>0.0</td>\n",
       "      <td>0.0</td>\n",
       "      <td>0.0</td>\n",
       "      <td>0.0</td>\n",
       "      <td>0.0</td>\n",
       "      <td>2200.000000</td>\n",
       "      <td>2200.000000</td>\n",
       "    </tr>\n",
       "    <tr>\n",
       "      <th>2017-06-02</th>\n",
       "      <td>0.0</td>\n",
       "      <td>0.0</td>\n",
       "      <td>0.0</td>\n",
       "      <td>0.0</td>\n",
       "      <td>0.0</td>\n",
       "      <td>0.0</td>\n",
       "      <td>0.0</td>\n",
       "      <td>0.0</td>\n",
       "      <td>0.0</td>\n",
       "      <td>0.0</td>\n",
       "      <td>...</td>\n",
       "      <td>0.0</td>\n",
       "      <td>0.0</td>\n",
       "      <td>0.0</td>\n",
       "      <td>0.0</td>\n",
       "      <td>0.0</td>\n",
       "      <td>0.0</td>\n",
       "      <td>0.0</td>\n",
       "      <td>0.0</td>\n",
       "      <td>2200.000000</td>\n",
       "      <td>2200.000000</td>\n",
       "    </tr>\n",
       "    <tr>\n",
       "      <th>2017-06-05</th>\n",
       "      <td>0.0</td>\n",
       "      <td>0.0</td>\n",
       "      <td>0.0</td>\n",
       "      <td>0.0</td>\n",
       "      <td>0.0</td>\n",
       "      <td>0.0</td>\n",
       "      <td>0.0</td>\n",
       "      <td>0.0</td>\n",
       "      <td>0.0</td>\n",
       "      <td>0.0</td>\n",
       "      <td>...</td>\n",
       "      <td>0.0</td>\n",
       "      <td>0.0</td>\n",
       "      <td>0.0</td>\n",
       "      <td>0.0</td>\n",
       "      <td>0.0</td>\n",
       "      <td>0.0</td>\n",
       "      <td>0.0</td>\n",
       "      <td>0.0</td>\n",
       "      <td>1984.479996</td>\n",
       "      <td>2199.999996</td>\n",
       "    </tr>\n",
       "    <tr>\n",
       "      <th>2017-06-06</th>\n",
       "      <td>0.0</td>\n",
       "      <td>0.0</td>\n",
       "      <td>0.0</td>\n",
       "      <td>0.0</td>\n",
       "      <td>0.0</td>\n",
       "      <td>0.0</td>\n",
       "      <td>0.0</td>\n",
       "      <td>0.0</td>\n",
       "      <td>0.0</td>\n",
       "      <td>0.0</td>\n",
       "      <td>...</td>\n",
       "      <td>0.0</td>\n",
       "      <td>0.0</td>\n",
       "      <td>0.0</td>\n",
       "      <td>0.0</td>\n",
       "      <td>0.0</td>\n",
       "      <td>0.0</td>\n",
       "      <td>0.0</td>\n",
       "      <td>0.0</td>\n",
       "      <td>1984.479996</td>\n",
       "      <td>2200.079996</td>\n",
       "    </tr>\n",
       "    <tr>\n",
       "      <th>2017-06-07</th>\n",
       "      <td>0.0</td>\n",
       "      <td>0.0</td>\n",
       "      <td>0.0</td>\n",
       "      <td>0.0</td>\n",
       "      <td>0.0</td>\n",
       "      <td>0.0</td>\n",
       "      <td>0.0</td>\n",
       "      <td>0.0</td>\n",
       "      <td>0.0</td>\n",
       "      <td>0.0</td>\n",
       "      <td>...</td>\n",
       "      <td>0.0</td>\n",
       "      <td>0.0</td>\n",
       "      <td>0.0</td>\n",
       "      <td>0.0</td>\n",
       "      <td>0.0</td>\n",
       "      <td>0.0</td>\n",
       "      <td>0.0</td>\n",
       "      <td>0.0</td>\n",
       "      <td>1984.479996</td>\n",
       "      <td>2199.539996</td>\n",
       "    </tr>\n",
       "  </tbody>\n",
       "</table>\n",
       "<p>5 rows × 30 columns</p>\n",
       "</div>"
      ],
      "text/plain": [
       "            ADM  APO   CG  CHKP  FEYE  FTI  GEVO  GLD  GPRO  GRMN  \\\n",
       "2017-06-01  0.0  0.0  0.0   0.0   0.0  0.0   0.0  0.0   0.0   0.0   \n",
       "2017-06-02  0.0  0.0  0.0   0.0   0.0  0.0   0.0  0.0   0.0   0.0   \n",
       "2017-06-05  0.0  0.0  0.0   0.0   0.0  0.0   0.0  0.0   0.0   0.0   \n",
       "2017-06-06  0.0  0.0  0.0   0.0   0.0  0.0   0.0  0.0   0.0   0.0   \n",
       "2017-06-07  0.0  0.0  0.0   0.0   0.0  0.0   0.0  0.0   0.0   0.0   \n",
       "\n",
       "               ...       VGIT  VGK  VGLT  VGSH  VGT  VOO   VT  VTI  \\\n",
       "2017-06-01     ...        0.0  0.0   0.0   0.0  0.0  0.0  0.0  0.0   \n",
       "2017-06-02     ...        0.0  0.0   0.0   0.0  0.0  0.0  0.0  0.0   \n",
       "2017-06-05     ...        0.0  0.0   0.0   0.0  0.0  0.0  0.0  0.0   \n",
       "2017-06-06     ...        0.0  0.0   0.0   0.0  0.0  0.0  0.0  0.0   \n",
       "2017-06-07     ...        0.0  0.0   0.0   0.0  0.0  0.0  0.0  0.0   \n",
       "\n",
       "            Cash+Dividends    Portfolio  \n",
       "2017-06-01     2200.000000  2200.000000  \n",
       "2017-06-02     2200.000000  2200.000000  \n",
       "2017-06-05     1984.479996  2199.999996  \n",
       "2017-06-06     1984.479996  2200.079996  \n",
       "2017-06-07     1984.479996  2199.539996  \n",
       "\n",
       "[5 rows x 30 columns]"
      ]
     },
     "execution_count": 398,
     "metadata": {},
     "output_type": "execute_result"
    }
   ],
   "source": [
    "positions.head()"
   ]
  },
  {
   "cell_type": "code",
   "execution_count": 399,
   "metadata": {},
   "outputs": [
    {
     "data": {
      "text/plain": [
       "<matplotlib.axes._subplots.AxesSubplot at 0x13b65030>"
      ]
     },
     "execution_count": 399,
     "metadata": {},
     "output_type": "execute_result"
    },
    {
     "data": {
      "image/png": "[encoded data removed]",
      "text/plain": [
       "<matplotlib.figure.Figure at 0x13b653f0>"
      ]
     },
     "metadata": {},
     "output_type": "display_data"
    }
   ],
   "source": [
    "positions[\"Portfolio\"].plot(ylim=(0, 2800))"
   ]
  },
  {
   "cell_type": "markdown",
   "metadata": {},
   "source": [
    "# Portfolio performance vs S&P"
   ]
  },
  {
   "cell_type": "code",
   "execution_count": 400,
   "metadata": {
    "collapsed": true
   },
   "outputs": [],
   "source": [
    "SandP = pd.DataFrame(index=index)\n",
    "SandP_long = pd.read_csv(\"C:/Users/pc/Desktop/portfolio_data/CSVs/GSPC.csv\",index_col=0, parse_dates=True, usecols=[0, 5])\n",
    "SandP_long.rename(columns={\"Adj Close\": \"S&P\"}, inplace=True)\n",
    "SandP = SandP.join(SandP_long, how='inner')"
   ]
  },
  {
   "cell_type": "code",
   "execution_count": 401,
   "metadata": {},
   "outputs": [
    {
     "data": {
      "text/plain": [
       "<matplotlib.axes._subplots.AxesSubplot at 0x11cf1850>"
      ]
     },
     "execution_count": 401,
     "metadata": {},
     "output_type": "execute_result"
    },
    {
     "data": {
      "image/png": "[encoded data removed]",
      "text/plain": [
       "<matplotlib.figure.Figure at 0x11cf38d0>"
      ]
     },
     "metadata": {},
     "output_type": "display_data"
    }
   ],
   "source": [
    "norm_port = positions[\"Portfolio\"]/positions[\"Portfolio\"].loc[positions.index[0]] * 100\n",
    "norm_snp = SandP/SandP.loc[SandP.index[0]] * 100\n",
    "ax = (norm_port).plot(figsize=(16,8), legend=True)\n",
    "(norm_snp).plot(ax=ax)"
   ]
  },
  {
   "cell_type": "code",
   "execution_count": 402,
   "metadata": {},
   "outputs": [],
   "source": [
    "norm_port = pd.DataFrame(norm_port) \n",
    "norm_port_snp = norm_port.merge(norm_snp, left_index=True, right_index=True)\n",
    "norm_port_snp.to_csv(\"norm_port_snp.csv\")"
   ]
  },
  {
   "cell_type": "code",
   "execution_count": 403,
   "metadata": {
    "collapsed": true
   },
   "outputs": [],
   "source": [
    "portfolio = pd.DataFrame(positions[\"Portfolio\"])"
   ]
  },
  {
   "cell_type": "code",
   "execution_count": 404,
   "metadata": {},
   "outputs": [
    {
     "data": {
      "text/plain": [
       "<matplotlib.legend.Legend at 0x11d800d0>"
      ]
     },
     "execution_count": 404,
     "metadata": {},
     "output_type": "execute_result"
    },
    {
     "data": {
      "image/png": "[encoded data removed]",
      "text/plain": [
       "<matplotlib.figure.Figure at 0x15fdad30>"
      ]
     },
     "metadata": {},
     "output_type": "display_data"
    }
   ],
   "source": [
    "log_ret_port = np.log(portfolio / portfolio.shift(1)) # daily\n",
    "log_ret_snp = np.log(SandP / SandP.shift(1)) # daily\n",
    "ax = log_ret_snp.hist(bins=50, figsize=(10, 5), grid=False)\n",
    "log_ret_port.hist(bins=50, figsize=(10, 5), grid=False, ax=ax)\n",
    "plt.xlabel(\"Log return\")\n",
    "plt.title(\"S&P vs Portfolio daily rets\")\n",
    "plt.legend([\"S&P\", \"Portfolio\"])"
   ]
  },
  {
   "cell_type": "code",
   "execution_count": 405,
   "metadata": {},
   "outputs": [
    {
     "data": {
      "text/plain": [
       "<matplotlib.axes._subplots.AxesSubplot at 0x11df8fb0>"
      ]
     },
     "execution_count": 405,
     "metadata": {},
     "output_type": "execute_result"
    },
    {
     "data": {
      "image/png": "[encoded data removed]",
      "text/plain": [
       "<matplotlib.figure.Figure at 0x11de0690>"
      ]
     },
     "metadata": {},
     "output_type": "display_data"
    }
   ],
   "source": [
    "ax1 = log_ret_snp.plot()\n",
    "log_ret_port.plot(ax=ax1, figsize=(12, 8))"
   ]
  },
  {
   "cell_type": "code",
   "execution_count": 406,
   "metadata": {},
   "outputs": [
    {
     "data": {
      "text/html": [
       "<div>\n",
       "<style>\n",
       "    .dataframe thead tr:only-child th {\n",
       "        text-align: right;\n",
       "    }\n",
       "\n",
       "    .dataframe thead th {\n",
       "        text-align: left;\n",
       "    }\n",
       "\n",
       "    .dataframe tbody tr th {\n",
       "        vertical-align: top;\n",
       "    }\n",
       "</style>\n",
       "<table border=\"1\" class=\"dataframe\">\n",
       "  <thead>\n",
       "    <tr style=\"text-align: right;\">\n",
       "      <th></th>\n",
       "      <th>S&amp;P</th>\n",
       "      <th>Portfolio</th>\n",
       "    </tr>\n",
       "  </thead>\n",
       "  <tbody>\n",
       "    <tr>\n",
       "      <th>S&amp;P</th>\n",
       "      <td>1.000000</td>\n",
       "      <td>0.834445</td>\n",
       "    </tr>\n",
       "    <tr>\n",
       "      <th>Portfolio</th>\n",
       "      <td>0.834445</td>\n",
       "      <td>1.000000</td>\n",
       "    </tr>\n",
       "  </tbody>\n",
       "</table>\n",
       "</div>"
      ],
      "text/plain": [
       "                S&P  Portfolio\n",
       "S&P        1.000000   0.834445\n",
       "Portfolio  0.834445   1.000000"
      ]
     },
     "execution_count": 406,
     "metadata": {},
     "output_type": "execute_result"
    }
   ],
   "source": [
    "log_rets = log_ret_snp.join(log_ret_port, how='inner')\n",
    "log_rets.corr()"
   ]
  },
  {
   "cell_type": "code",
   "execution_count": 407,
   "metadata": {
    "collapsed": true
   },
   "outputs": [],
   "source": [
    "log_rets.to_csv(\"log_rets.csv\")"
   ]
  },
  {
   "cell_type": "code",
   "execution_count": 408,
   "metadata": {},
   "outputs": [
    {
     "data": {
      "text/plain": [
       "<matplotlib.axes._subplots.AxesSubplot at 0x13bbc110>"
      ]
     },
     "execution_count": 408,
     "metadata": {},
     "output_type": "execute_result"
    },
    {
     "data": {
      "image/png": "[encoded data removed]",
      "text/plain": [
       "<matplotlib.figure.Figure at 0x14589df0>"
      ]
     },
     "metadata": {},
     "output_type": "display_data"
    }
   ],
   "source": [
    "log_rets[\"S&P\"].rolling(window=10).corr(log_rets[\"Portfolio\"]).plot()"
   ]
  },
  {
   "cell_type": "markdown",
   "metadata": {},
   "source": [
    "# Linear Regression "
   ]
  },
  {
   "cell_type": "code",
   "execution_count": 409,
   "metadata": {
    "collapsed": true
   },
   "outputs": [],
   "source": [
    "import sklearn\n",
    "np.set_printoptions(suppress=True)\n",
    "from sklearn.linear_model import LinearRegression"
   ]
  },
  {
   "cell_type": "code",
   "execution_count": 410,
   "metadata": {
    "collapsed": true
   },
   "outputs": [],
   "source": [
    "lin_reg = LinearRegression()"
   ]
  },
  {
   "cell_type": "code",
   "execution_count": 411,
   "metadata": {},
   "outputs": [
    {
     "data": {
      "text/plain": [
       "LinearRegression(copy_X=True, fit_intercept=True, n_jobs=1, normalize=False)"
      ]
     },
     "execution_count": 411,
     "metadata": {},
     "output_type": "execute_result"
    }
   ],
   "source": [
    "lin_reg.fit(log_ret_snp.dropna().values.reshape(-1,1), log_ret_port.dropna().values.reshape(-1,1))"
   ]
  },
  {
   "cell_type": "code",
   "execution_count": 412,
   "metadata": {},
   "outputs": [
    {
     "data": {
      "text/plain": [
       "array([ 0.52029052])"
      ]
     },
     "execution_count": 412,
     "metadata": {},
     "output_type": "execute_result"
    }
   ],
   "source": [
    "# beta\n",
    "beta_port = lin_reg.coef_.flatten()\n",
    "beta_port"
   ]
  },
  {
   "cell_type": "code",
   "execution_count": 413,
   "metadata": {},
   "outputs": [
    {
     "data": {
      "text/plain": [
       "array([ 0.00013002])"
      ]
     },
     "execution_count": 413,
     "metadata": {},
     "output_type": "execute_result"
    }
   ],
   "source": [
    "intercept = lin_reg.intercept_\n",
    "intercept"
   ]
  },
  {
   "cell_type": "code",
   "execution_count": 449,
   "metadata": {},
   "outputs": [
    {
     "data": {
      "text/plain": [
       "<matplotlib.text.Text at 0x182d8e70>"
      ]
     },
     "execution_count": 449,
     "metadata": {},
     "output_type": "execute_result"
    },
    {
     "data": {
      "image/png": "[encoded data removed]",
      "text/plain": [
       "<matplotlib.figure.Figure at 0x17ef8e50>"
      ]
     },
     "metadata": {},
     "output_type": "display_data"
    }
   ],
   "source": [
    "plt.rc('figure', figsize=(14, 8))\n",
    "plt.scatter(log_ret_snp, log_ret_port, s = 15)\n",
    "plt.plot(log_ret_snp, beta_port * log_ret_snp + intercept, \"-\", color='r')\n",
    "plt.axhline(color='grey', linewidth=.55)\n",
    "plt.axvline(color='grey', linewidth=.55)\n",
    "plt.xlabel(\"S&P\", size=12)\n",
    "plt.ylabel(\"Portfolio\", size=12)\n",
    "plt.title(\"Log returns S&P vs Portfolio\", size=16)"
   ]
  },
  {
   "cell_type": "markdown",
   "metadata": {},
   "source": [
    "# Stats"
   ]
  },
  {
   "cell_type": "markdown",
   "metadata": {},
   "source": [
    "### Annualized"
   ]
  },
  {
   "cell_type": "code",
   "execution_count": 415,
   "metadata": {},
   "outputs": [
    {
     "data": {
      "text/plain": [
       "array([ 0.06634521], dtype=float16)"
      ]
     },
     "execution_count": 415,
     "metadata": {},
     "output_type": "execute_result"
    }
   ],
   "source": [
    "port_std = np.float16(log_ret_port.std() * np.sqrt(252))\n",
    "port_std"
   ]
  },
  {
   "cell_type": "code",
   "execution_count": 416,
   "metadata": {},
   "outputs": [
    {
     "data": {
      "text/plain": [
       "array([ 0.12017822], dtype=float16)"
      ]
     },
     "execution_count": 416,
     "metadata": {},
     "output_type": "execute_result"
    }
   ],
   "source": [
    "exp_ret_port = np.float16(log_ret_port.mean() * 252)\n",
    "exp_ret_port"
   ]
  },
  {
   "cell_type": "code",
   "execution_count": 417,
   "metadata": {},
   "outputs": [
    {
     "data": {
      "text/plain": [
       "array([ 0.10638428], dtype=float16)"
      ]
     },
     "execution_count": 417,
     "metadata": {},
     "output_type": "execute_result"
    }
   ],
   "source": [
    "snp_std = np.float16(log_ret_snp.std() * np.sqrt(252))\n",
    "snp_std"
   ]
  },
  {
   "cell_type": "code",
   "execution_count": 418,
   "metadata": {},
   "outputs": [
    {
     "data": {
      "text/plain": [
       "array([ 0.16809082], dtype=float16)"
      ]
     },
     "execution_count": 418,
     "metadata": {},
     "output_type": "execute_result"
    }
   ],
   "source": [
    "exp_ret_snp = np.float16(log_ret_snp.mean() * 252)\n",
    "exp_ret_snp"
   ]
  },
  {
   "cell_type": "markdown",
   "metadata": {},
   "source": [
    "# Ratios"
   ]
  },
  {
   "cell_type": "code",
   "execution_count": 419,
   "metadata": {
    "collapsed": true
   },
   "outputs": [],
   "source": [
    "# risk_free rate \"r\" on 03/02/18 on 10 year treasury \n",
    "r = .0286"
   ]
  },
  {
   "cell_type": "code",
   "execution_count": 420,
   "metadata": {},
   "outputs": [
    {
     "data": {
      "text/plain": [
       "array([ 1.37988281], dtype=float16)"
      ]
     },
     "execution_count": 420,
     "metadata": {},
     "output_type": "execute_result"
    }
   ],
   "source": [
    "sharpe_port = (exp_ret_port - r) / port_std\n",
    "sharpe_port"
   ]
  },
  {
   "cell_type": "code",
   "execution_count": 421,
   "metadata": {},
   "outputs": [
    {
     "data": {
      "text/plain": [
       "array([ 1.31152344], dtype=float16)"
      ]
     },
     "execution_count": 421,
     "metadata": {},
     "output_type": "execute_result"
    }
   ],
   "source": [
    "sharpe_snp = (exp_ret_snp - r) / snp_std\n",
    "sharpe_snp"
   ]
  },
  {
   "cell_type": "code",
   "execution_count": 422,
   "metadata": {},
   "outputs": [
    {
     "data": {
      "text/plain": [
       "array([ 0.17596464])"
      ]
     },
     "execution_count": 422,
     "metadata": {},
     "output_type": "execute_result"
    }
   ],
   "source": [
    "treynor_port = (exp_ret_port - r) / beta_port\n",
    "treynor_port"
   ]
  },
  {
   "cell_type": "code",
   "execution_count": 482,
   "metadata": {},
   "outputs": [],
   "source": [
    "realized_ret_port = ((norm_port_snp.loc[norm_port_snp.index[-1]] - norm_port_snp.loc[norm_port_snp.index[0]]) / \\\n",
    "norm_port_snp.loc[norm_port_snp.index[0]])[0]\n",
    "realized_ret_snp = ((norm_port_snp.loc[norm_port_snp.index[-1]] - norm_port_snp.loc[norm_port_snp.index[0]]) / \\\n",
    "norm_port_snp.loc[norm_port_snp.index[0]])[1]"
   ]
  },
  {
   "cell_type": "code",
   "execution_count": 483,
   "metadata": {},
   "outputs": [
    {
     "data": {
      "text/plain": [
       "array([ 0.01008815])"
      ]
     },
     "execution_count": 483,
     "metadata": {},
     "output_type": "execute_result"
    }
   ],
   "source": [
    "alpha = realized_ret_port - r - beta_port*(realized_ret_snp - r)\n",
    "alpha"
   ]
  },
  {
   "cell_type": "markdown",
   "metadata": {},
   "source": [
    "# Portfolio allocation; weight, sector, industry"
   ]
  },
  {
   "cell_type": "code",
   "execution_count": 424,
   "metadata": {
    "collapsed": true
   },
   "outputs": [],
   "source": [
    "port_allocation = positions.loc[positions.index[-1], positions.columns[0:-1]]\n",
    "port_allocation.replace(0, np.nan, inplace=True)\n",
    "port_allocation.dropna(inplace=True)"
   ]
  },
  {
   "cell_type": "code",
   "execution_count": 425,
   "metadata": {},
   "outputs": [
    {
     "data": {
      "text/plain": [
       "ADM                85.140000\n",
       "APO                68.500000\n",
       "CG                 46.300000\n",
       "CHKP              104.310000\n",
       "FEYE               16.460000\n",
       "GLD               126.140000\n",
       "GPRO               55.900000\n",
       "GRMN              181.050000\n",
       "HPE                18.140000\n",
       "IBM               155.520000\n",
       "JASO               73.900000\n",
       "JNPR               52.240000\n",
       "QCOM              126.640000\n",
       "SGOL              128.640000\n",
       "SWM                79.800000\n",
       "TM                274.060000\n",
       "VEA                90.800000\n",
       "VGLT              436.140000\n",
       "VOO               252.490000\n",
       "Cash+Dividends     29.637836\n",
       "Name: 2018-02-23 00:00:00, dtype: float64"
      ]
     },
     "execution_count": 425,
     "metadata": {},
     "output_type": "execute_result"
    }
   ],
   "source": [
    "port_allocation"
   ]
  },
  {
   "cell_type": "code",
   "execution_count": 426,
   "metadata": {},
   "outputs": [
    {
     "data": {
      "text/plain": [
       "ADM                3.544830\n",
       "APO                2.852018\n",
       "CG                 1.927715\n",
       "CHKP               4.342979\n",
       "FEYE               0.685317\n",
       "GLD                5.251877\n",
       "GPRO               2.327414\n",
       "GRMN               7.538072\n",
       "HPE                0.755264\n",
       "IBM                6.475123\n",
       "JASO               3.076849\n",
       "JNPR               2.175028\n",
       "QCOM               5.272695\n",
       "SGOL               5.355966\n",
       "SWM                3.322497\n",
       "TM                11.410571\n",
       "VEA                3.780486\n",
       "VGLT              18.158822\n",
       "VOO               10.512498\n",
       "Cash+Dividends     1.233980\n",
       "Name: 2018-02-23 00:00:00, dtype: float64"
      ]
     },
     "execution_count": 426,
     "metadata": {},
     "output_type": "execute_result"
    }
   ],
   "source": [
    "weights = port_allocation / port_allocation.sum() * 100\n",
    "weights"
   ]
  },
  {
   "cell_type": "code",
   "execution_count": 427,
   "metadata": {},
   "outputs": [
    {
     "data": {
      "text/plain": [
       "<matplotlib.text.Text at 0x1689a050>"
      ]
     },
     "execution_count": 427,
     "metadata": {},
     "output_type": "execute_result"
    },
    {
     "data": {
      "image/png": "[encoded data removed]",
      "text/plain": [
       "<matplotlib.figure.Figure at 0x16869710>"
      ]
     },
     "metadata": {},
     "output_type": "display_data"
    }
   ],
   "source": [
    "weights.sort_values().plot(kind='barh', figsize=(12, 7))\n",
    "plt.title(\"Portfolio allocation\")"
   ]
  },
  {
   "cell_type": "code",
   "execution_count": 255,
   "metadata": {
    "collapsed": true
   },
   "outputs": [],
   "source": [
    "weights.to_csv(\"weights.csv\")"
   ]
  },
  {
   "cell_type": "code",
   "execution_count": 428,
   "metadata": {},
   "outputs": [],
   "source": [
    "sector = {\"VGLT\": \"Long US Bonds\", \"TM\": \"Consumer Goods\", \"VOO\":\"Blend ETF\", \n",
    "          \"GRMN\": \"Technology\", \"IBM\":\"Technology\", \"SGOL\":\"Commodity ETF\", \"QCOM\":\"Technology\",\n",
    "         \"GLD\":\"Commodity ETF\", \"CHKP\":\"Technology\", \"VEA\":\"Blend ETF\", \"ADM\":\"Consumer Goods\",\n",
    "         \"SWM\":\"Consumer Goods\", \"JASO\":\"Technology\", \"APO\":\"Financial\", \"GRPO\":\"Consumer Goods\", \n",
    "         \"JNPR\":\"Technology\", \"CG\":\"Financial\", \"Cash+Dividends\": \"Cash\", \"HPE\":\"Technology\", \n",
    "         \"FEYE\":\"Technology\"}\n",
    "\n",
    "industry = {\"VGLT\": \"Vanguard Long-Term Treasury\", \"TM\": \"Auto Manufacturers\", \n",
    "            \"VOO\":\"Vanguard S&P 500\", \"GRMN\": \"Scientific & Technical Instruments\", \n",
    "            \"IBM\":\"Information Technology Services\", \n",
    "            \"SGOL\":\"ETF Precious Metals\", \"QCOM\":\"Communication Equipment\",\"GLD\":\"SPDR Precious Metals ETF\", \n",
    "            \"CHKP\":\"Security Software & Services\", \"VEA\":\"Vanguard FTSE\", \"ADM\":\"Farm Products\",\n",
    "         \"SWM\":\"Paper & Paper Products\", \"JASO\":\"Semiconductor\", \"APO\":\"Diversified Investments\", \n",
    "            \"GRPO\":\"Photographic Equipment & Supplies\", \"JNPR\":\"Networking & Communication Devices\", \n",
    "            \"CG\":\"Asset Management\", \"Cash+Dividends\": \"Cash\", \"HPE\":\"Information Technology\", \n",
    "         \"FEYE\":\"Application Software\"}"
   ]
  },
  {
   "cell_type": "code",
   "execution_count": 429,
   "metadata": {},
   "outputs": [
    {
     "data": {
      "text/html": [
       "<div>\n",
       "<style>\n",
       "    .dataframe thead tr:only-child th {\n",
       "        text-align: right;\n",
       "    }\n",
       "\n",
       "    .dataframe thead th {\n",
       "        text-align: left;\n",
       "    }\n",
       "\n",
       "    .dataframe tbody tr th {\n",
       "        vertical-align: top;\n",
       "    }\n",
       "</style>\n",
       "<table border=\"1\" class=\"dataframe\">\n",
       "  <thead>\n",
       "    <tr style=\"text-align: right;\">\n",
       "      <th></th>\n",
       "      <th>Weight</th>\n",
       "    </tr>\n",
       "  </thead>\n",
       "  <tbody>\n",
       "    <tr>\n",
       "      <th>VGLT</th>\n",
       "      <td>18.158822</td>\n",
       "    </tr>\n",
       "    <tr>\n",
       "      <th>TM</th>\n",
       "      <td>11.410571</td>\n",
       "    </tr>\n",
       "    <tr>\n",
       "      <th>VOO</th>\n",
       "      <td>10.512498</td>\n",
       "    </tr>\n",
       "    <tr>\n",
       "      <th>GRMN</th>\n",
       "      <td>7.538072</td>\n",
       "    </tr>\n",
       "    <tr>\n",
       "      <th>IBM</th>\n",
       "      <td>6.475123</td>\n",
       "    </tr>\n",
       "    <tr>\n",
       "      <th>SGOL</th>\n",
       "      <td>5.355966</td>\n",
       "    </tr>\n",
       "    <tr>\n",
       "      <th>QCOM</th>\n",
       "      <td>5.272695</td>\n",
       "    </tr>\n",
       "    <tr>\n",
       "      <th>GLD</th>\n",
       "      <td>5.251877</td>\n",
       "    </tr>\n",
       "    <tr>\n",
       "      <th>CHKP</th>\n",
       "      <td>4.342979</td>\n",
       "    </tr>\n",
       "    <tr>\n",
       "      <th>VEA</th>\n",
       "      <td>3.780486</td>\n",
       "    </tr>\n",
       "    <tr>\n",
       "      <th>ADM</th>\n",
       "      <td>3.544830</td>\n",
       "    </tr>\n",
       "    <tr>\n",
       "      <th>SWM</th>\n",
       "      <td>3.322497</td>\n",
       "    </tr>\n",
       "    <tr>\n",
       "      <th>JASO</th>\n",
       "      <td>3.076849</td>\n",
       "    </tr>\n",
       "    <tr>\n",
       "      <th>APO</th>\n",
       "      <td>2.852018</td>\n",
       "    </tr>\n",
       "    <tr>\n",
       "      <th>GRPO</th>\n",
       "      <td>2.327414</td>\n",
       "    </tr>\n",
       "    <tr>\n",
       "      <th>JNPR</th>\n",
       "      <td>2.175028</td>\n",
       "    </tr>\n",
       "    <tr>\n",
       "      <th>CG</th>\n",
       "      <td>1.927715</td>\n",
       "    </tr>\n",
       "    <tr>\n",
       "      <th>Cash+Dividends</th>\n",
       "      <td>1.233980</td>\n",
       "    </tr>\n",
       "    <tr>\n",
       "      <th>HPE</th>\n",
       "      <td>0.755264</td>\n",
       "    </tr>\n",
       "    <tr>\n",
       "      <th>FEYE</th>\n",
       "      <td>0.685317</td>\n",
       "    </tr>\n",
       "  </tbody>\n",
       "</table>\n",
       "</div>"
      ],
      "text/plain": [
       "                   Weight\n",
       "VGLT            18.158822\n",
       "TM              11.410571\n",
       "VOO             10.512498\n",
       "GRMN             7.538072\n",
       "IBM              6.475123\n",
       "SGOL             5.355966\n",
       "QCOM             5.272695\n",
       "GLD              5.251877\n",
       "CHKP             4.342979\n",
       "VEA              3.780486\n",
       "ADM              3.544830\n",
       "SWM              3.322497\n",
       "JASO             3.076849\n",
       "APO              2.852018\n",
       "GRPO             2.327414\n",
       "JNPR             2.175028\n",
       "CG               1.927715\n",
       "Cash+Dividends   1.233980\n",
       "HPE              0.755264\n",
       "FEYE             0.685317"
      ]
     },
     "execution_count": 429,
     "metadata": {},
     "output_type": "execute_result"
    }
   ],
   "source": [
    "distribution = pd.DataFrame(np.array(weights.sort_values(ascending=False)), index=sector.keys())\n",
    "distribution = distribution.rename(columns={0:\"Weight\"})\n",
    "distribution"
   ]
  },
  {
   "cell_type": "code",
   "execution_count": 430,
   "metadata": {},
   "outputs": [
    {
     "data": {
      "text/html": [
       "<div>\n",
       "<style>\n",
       "    .dataframe thead tr:only-child th {\n",
       "        text-align: right;\n",
       "    }\n",
       "\n",
       "    .dataframe thead th {\n",
       "        text-align: left;\n",
       "    }\n",
       "\n",
       "    .dataframe tbody tr th {\n",
       "        vertical-align: top;\n",
       "    }\n",
       "</style>\n",
       "<table border=\"1\" class=\"dataframe\">\n",
       "  <thead>\n",
       "    <tr style=\"text-align: right;\">\n",
       "      <th></th>\n",
       "      <th>Weight</th>\n",
       "      <th>0</th>\n",
       "    </tr>\n",
       "  </thead>\n",
       "  <tbody>\n",
       "    <tr>\n",
       "      <th>VGLT</th>\n",
       "      <td>18.158822</td>\n",
       "      <td>Long US Bonds</td>\n",
       "    </tr>\n",
       "    <tr>\n",
       "      <th>TM</th>\n",
       "      <td>11.410571</td>\n",
       "      <td>Consumer Goods</td>\n",
       "    </tr>\n",
       "    <tr>\n",
       "      <th>VOO</th>\n",
       "      <td>10.512498</td>\n",
       "      <td>Blend ETF</td>\n",
       "    </tr>\n",
       "    <tr>\n",
       "      <th>GRMN</th>\n",
       "      <td>7.538072</td>\n",
       "      <td>Technology</td>\n",
       "    </tr>\n",
       "    <tr>\n",
       "      <th>IBM</th>\n",
       "      <td>6.475123</td>\n",
       "      <td>Technology</td>\n",
       "    </tr>\n",
       "    <tr>\n",
       "      <th>SGOL</th>\n",
       "      <td>5.355966</td>\n",
       "      <td>Commodity ETF</td>\n",
       "    </tr>\n",
       "    <tr>\n",
       "      <th>QCOM</th>\n",
       "      <td>5.272695</td>\n",
       "      <td>Technology</td>\n",
       "    </tr>\n",
       "    <tr>\n",
       "      <th>GLD</th>\n",
       "      <td>5.251877</td>\n",
       "      <td>Commodity ETF</td>\n",
       "    </tr>\n",
       "    <tr>\n",
       "      <th>CHKP</th>\n",
       "      <td>4.342979</td>\n",
       "      <td>Technology</td>\n",
       "    </tr>\n",
       "    <tr>\n",
       "      <th>VEA</th>\n",
       "      <td>3.780486</td>\n",
       "      <td>Blend ETF</td>\n",
       "    </tr>\n",
       "    <tr>\n",
       "      <th>ADM</th>\n",
       "      <td>3.544830</td>\n",
       "      <td>Consumer Goods</td>\n",
       "    </tr>\n",
       "    <tr>\n",
       "      <th>SWM</th>\n",
       "      <td>3.322497</td>\n",
       "      <td>Consumer Goods</td>\n",
       "    </tr>\n",
       "    <tr>\n",
       "      <th>JASO</th>\n",
       "      <td>3.076849</td>\n",
       "      <td>Technology</td>\n",
       "    </tr>\n",
       "    <tr>\n",
       "      <th>APO</th>\n",
       "      <td>2.852018</td>\n",
       "      <td>Financial</td>\n",
       "    </tr>\n",
       "    <tr>\n",
       "      <th>GRPO</th>\n",
       "      <td>2.327414</td>\n",
       "      <td>Consumer Goods</td>\n",
       "    </tr>\n",
       "    <tr>\n",
       "      <th>JNPR</th>\n",
       "      <td>2.175028</td>\n",
       "      <td>Technology</td>\n",
       "    </tr>\n",
       "    <tr>\n",
       "      <th>CG</th>\n",
       "      <td>1.927715</td>\n",
       "      <td>Financial</td>\n",
       "    </tr>\n",
       "    <tr>\n",
       "      <th>Cash+Dividends</th>\n",
       "      <td>1.233980</td>\n",
       "      <td>Cash</td>\n",
       "    </tr>\n",
       "    <tr>\n",
       "      <th>HPE</th>\n",
       "      <td>0.755264</td>\n",
       "      <td>Technology</td>\n",
       "    </tr>\n",
       "    <tr>\n",
       "      <th>FEYE</th>\n",
       "      <td>0.685317</td>\n",
       "      <td>Technology</td>\n",
       "    </tr>\n",
       "  </tbody>\n",
       "</table>\n",
       "</div>"
      ],
      "text/plain": [
       "                   Weight               0\n",
       "VGLT            18.158822   Long US Bonds\n",
       "TM              11.410571  Consumer Goods\n",
       "VOO             10.512498       Blend ETF\n",
       "GRMN             7.538072      Technology\n",
       "IBM              6.475123      Technology\n",
       "SGOL             5.355966   Commodity ETF\n",
       "QCOM             5.272695      Technology\n",
       "GLD              5.251877   Commodity ETF\n",
       "CHKP             4.342979      Technology\n",
       "VEA              3.780486       Blend ETF\n",
       "ADM              3.544830  Consumer Goods\n",
       "SWM              3.322497  Consumer Goods\n",
       "JASO             3.076849      Technology\n",
       "APO              2.852018       Financial\n",
       "GRPO             2.327414  Consumer Goods\n",
       "JNPR             2.175028      Technology\n",
       "CG               1.927715       Financial\n",
       "Cash+Dividends   1.233980            Cash\n",
       "HPE              0.755264      Technology\n",
       "FEYE             0.685317      Technology"
      ]
     },
     "execution_count": 430,
     "metadata": {},
     "output_type": "execute_result"
    }
   ],
   "source": [
    "sector_ser = pd.Series(sector)\n",
    "distribution = distribution.merge(sector_ser.to_frame(), left_index=True, right_index=True)\n",
    "distribution"
   ]
  },
  {
   "cell_type": "code",
   "execution_count": 431,
   "metadata": {},
   "outputs": [],
   "source": [
    "industry_ser = pd.Series(industry)\n",
    "distribution = distribution.merge(industry_ser.to_frame(), left_index=True, right_index=True)"
   ]
  },
  {
   "cell_type": "code",
   "execution_count": 432,
   "metadata": {},
   "outputs": [
    {
     "data": {
      "text/html": [
       "<div>\n",
       "<style>\n",
       "    .dataframe thead tr:only-child th {\n",
       "        text-align: right;\n",
       "    }\n",
       "\n",
       "    .dataframe thead th {\n",
       "        text-align: left;\n",
       "    }\n",
       "\n",
       "    .dataframe tbody tr th {\n",
       "        vertical-align: top;\n",
       "    }\n",
       "</style>\n",
       "<table border=\"1\" class=\"dataframe\">\n",
       "  <thead>\n",
       "    <tr style=\"text-align: right;\">\n",
       "      <th></th>\n",
       "      <th>Weight</th>\n",
       "      <th>0_x</th>\n",
       "      <th>0_y</th>\n",
       "    </tr>\n",
       "  </thead>\n",
       "  <tbody>\n",
       "    <tr>\n",
       "      <th>VGLT</th>\n",
       "      <td>18.158822</td>\n",
       "      <td>Long US Bonds</td>\n",
       "      <td>Vanguard Long-Term Treasury</td>\n",
       "    </tr>\n",
       "    <tr>\n",
       "      <th>TM</th>\n",
       "      <td>11.410571</td>\n",
       "      <td>Consumer Goods</td>\n",
       "      <td>Auto Manufacturers</td>\n",
       "    </tr>\n",
       "    <tr>\n",
       "      <th>VOO</th>\n",
       "      <td>10.512498</td>\n",
       "      <td>Blend ETF</td>\n",
       "      <td>Vanguard S&amp;P 500</td>\n",
       "    </tr>\n",
       "    <tr>\n",
       "      <th>GRMN</th>\n",
       "      <td>7.538072</td>\n",
       "      <td>Technology</td>\n",
       "      <td>Scientific &amp; Technical Instruments</td>\n",
       "    </tr>\n",
       "    <tr>\n",
       "      <th>IBM</th>\n",
       "      <td>6.475123</td>\n",
       "      <td>Technology</td>\n",
       "      <td>Information Technology Services</td>\n",
       "    </tr>\n",
       "    <tr>\n",
       "      <th>SGOL</th>\n",
       "      <td>5.355966</td>\n",
       "      <td>Commodity ETF</td>\n",
       "      <td>ETF Precious Metals</td>\n",
       "    </tr>\n",
       "    <tr>\n",
       "      <th>QCOM</th>\n",
       "      <td>5.272695</td>\n",
       "      <td>Technology</td>\n",
       "      <td>Communication Equipment</td>\n",
       "    </tr>\n",
       "    <tr>\n",
       "      <th>GLD</th>\n",
       "      <td>5.251877</td>\n",
       "      <td>Commodity ETF</td>\n",
       "      <td>SPDR Precious Metals ETF</td>\n",
       "    </tr>\n",
       "    <tr>\n",
       "      <th>CHKP</th>\n",
       "      <td>4.342979</td>\n",
       "      <td>Technology</td>\n",
       "      <td>Security Software &amp; Services</td>\n",
       "    </tr>\n",
       "    <tr>\n",
       "      <th>VEA</th>\n",
       "      <td>3.780486</td>\n",
       "      <td>Blend ETF</td>\n",
       "      <td>Vanguard FTSE</td>\n",
       "    </tr>\n",
       "    <tr>\n",
       "      <th>ADM</th>\n",
       "      <td>3.544830</td>\n",
       "      <td>Consumer Goods</td>\n",
       "      <td>Farm Products</td>\n",
       "    </tr>\n",
       "    <tr>\n",
       "      <th>SWM</th>\n",
       "      <td>3.322497</td>\n",
       "      <td>Consumer Goods</td>\n",
       "      <td>Paper &amp; Paper Products</td>\n",
       "    </tr>\n",
       "    <tr>\n",
       "      <th>JASO</th>\n",
       "      <td>3.076849</td>\n",
       "      <td>Technology</td>\n",
       "      <td>Semiconductor</td>\n",
       "    </tr>\n",
       "    <tr>\n",
       "      <th>APO</th>\n",
       "      <td>2.852018</td>\n",
       "      <td>Financial</td>\n",
       "      <td>Diversified Investments</td>\n",
       "    </tr>\n",
       "    <tr>\n",
       "      <th>GRPO</th>\n",
       "      <td>2.327414</td>\n",
       "      <td>Consumer Goods</td>\n",
       "      <td>Photographic Equipment &amp; Supplies</td>\n",
       "    </tr>\n",
       "    <tr>\n",
       "      <th>JNPR</th>\n",
       "      <td>2.175028</td>\n",
       "      <td>Technology</td>\n",
       "      <td>Networking &amp; Communication Devices</td>\n",
       "    </tr>\n",
       "    <tr>\n",
       "      <th>CG</th>\n",
       "      <td>1.927715</td>\n",
       "      <td>Financial</td>\n",
       "      <td>Asset Management</td>\n",
       "    </tr>\n",
       "    <tr>\n",
       "      <th>Cash+Dividends</th>\n",
       "      <td>1.233980</td>\n",
       "      <td>Cash</td>\n",
       "      <td>Cash</td>\n",
       "    </tr>\n",
       "    <tr>\n",
       "      <th>HPE</th>\n",
       "      <td>0.755264</td>\n",
       "      <td>Technology</td>\n",
       "      <td>Information Technology</td>\n",
       "    </tr>\n",
       "    <tr>\n",
       "      <th>FEYE</th>\n",
       "      <td>0.685317</td>\n",
       "      <td>Technology</td>\n",
       "      <td>Application Software</td>\n",
       "    </tr>\n",
       "  </tbody>\n",
       "</table>\n",
       "</div>"
      ],
      "text/plain": [
       "                   Weight             0_x                                 0_y\n",
       "VGLT            18.158822   Long US Bonds         Vanguard Long-Term Treasury\n",
       "TM              11.410571  Consumer Goods                  Auto Manufacturers\n",
       "VOO             10.512498       Blend ETF                    Vanguard S&P 500\n",
       "GRMN             7.538072      Technology  Scientific & Technical Instruments\n",
       "IBM              6.475123      Technology     Information Technology Services\n",
       "SGOL             5.355966   Commodity ETF                 ETF Precious Metals\n",
       "QCOM             5.272695      Technology             Communication Equipment\n",
       "GLD              5.251877   Commodity ETF            SPDR Precious Metals ETF\n",
       "CHKP             4.342979      Technology        Security Software & Services\n",
       "VEA              3.780486       Blend ETF                       Vanguard FTSE\n",
       "ADM              3.544830  Consumer Goods                       Farm Products\n",
       "SWM              3.322497  Consumer Goods              Paper & Paper Products\n",
       "JASO             3.076849      Technology                       Semiconductor\n",
       "APO              2.852018       Financial             Diversified Investments\n",
       "GRPO             2.327414  Consumer Goods   Photographic Equipment & Supplies\n",
       "JNPR             2.175028      Technology  Networking & Communication Devices\n",
       "CG               1.927715       Financial                    Asset Management\n",
       "Cash+Dividends   1.233980            Cash                                Cash\n",
       "HPE              0.755264      Technology              Information Technology\n",
       "FEYE             0.685317      Technology                Application Software"
      ]
     },
     "execution_count": 432,
     "metadata": {},
     "output_type": "execute_result"
    }
   ],
   "source": [
    "distribution"
   ]
  },
  {
   "cell_type": "code",
   "execution_count": 433,
   "metadata": {},
   "outputs": [],
   "source": [
    "distribution = distribution.rename(columns={\"0_x\":\"Sector\", \"0_y\":\"Industry\"})"
   ]
  },
  {
   "cell_type": "code",
   "execution_count": 434,
   "metadata": {},
   "outputs": [
    {
     "data": {
      "text/html": [
       "<div>\n",
       "<style>\n",
       "    .dataframe thead tr:only-child th {\n",
       "        text-align: right;\n",
       "    }\n",
       "\n",
       "    .dataframe thead th {\n",
       "        text-align: left;\n",
       "    }\n",
       "\n",
       "    .dataframe tbody tr th {\n",
       "        vertical-align: top;\n",
       "    }\n",
       "</style>\n",
       "<table border=\"1\" class=\"dataframe\">\n",
       "  <thead>\n",
       "    <tr style=\"text-align: right;\">\n",
       "      <th></th>\n",
       "      <th>Ticker</th>\n",
       "      <th>Weight</th>\n",
       "      <th>Sector</th>\n",
       "      <th>Industry</th>\n",
       "    </tr>\n",
       "  </thead>\n",
       "  <tbody>\n",
       "    <tr>\n",
       "      <th>0</th>\n",
       "      <td>VGLT</td>\n",
       "      <td>18.158822</td>\n",
       "      <td>Long US Bonds</td>\n",
       "      <td>Vanguard Long-Term Treasury</td>\n",
       "    </tr>\n",
       "    <tr>\n",
       "      <th>1</th>\n",
       "      <td>TM</td>\n",
       "      <td>11.410571</td>\n",
       "      <td>Consumer Goods</td>\n",
       "      <td>Auto Manufacturers</td>\n",
       "    </tr>\n",
       "    <tr>\n",
       "      <th>2</th>\n",
       "      <td>VOO</td>\n",
       "      <td>10.512498</td>\n",
       "      <td>Blend ETF</td>\n",
       "      <td>Vanguard S&amp;P 500</td>\n",
       "    </tr>\n",
       "    <tr>\n",
       "      <th>3</th>\n",
       "      <td>GRMN</td>\n",
       "      <td>7.538072</td>\n",
       "      <td>Technology</td>\n",
       "      <td>Scientific &amp; Technical Instruments</td>\n",
       "    </tr>\n",
       "    <tr>\n",
       "      <th>4</th>\n",
       "      <td>IBM</td>\n",
       "      <td>6.475123</td>\n",
       "      <td>Technology</td>\n",
       "      <td>Information Technology Services</td>\n",
       "    </tr>\n",
       "    <tr>\n",
       "      <th>5</th>\n",
       "      <td>SGOL</td>\n",
       "      <td>5.355966</td>\n",
       "      <td>Commodity ETF</td>\n",
       "      <td>ETF Precious Metals</td>\n",
       "    </tr>\n",
       "    <tr>\n",
       "      <th>6</th>\n",
       "      <td>QCOM</td>\n",
       "      <td>5.272695</td>\n",
       "      <td>Technology</td>\n",
       "      <td>Communication Equipment</td>\n",
       "    </tr>\n",
       "    <tr>\n",
       "      <th>7</th>\n",
       "      <td>GLD</td>\n",
       "      <td>5.251877</td>\n",
       "      <td>Commodity ETF</td>\n",
       "      <td>SPDR Precious Metals ETF</td>\n",
       "    </tr>\n",
       "    <tr>\n",
       "      <th>8</th>\n",
       "      <td>CHKP</td>\n",
       "      <td>4.342979</td>\n",
       "      <td>Technology</td>\n",
       "      <td>Security Software &amp; Services</td>\n",
       "    </tr>\n",
       "    <tr>\n",
       "      <th>9</th>\n",
       "      <td>VEA</td>\n",
       "      <td>3.780486</td>\n",
       "      <td>Blend ETF</td>\n",
       "      <td>Vanguard FTSE</td>\n",
       "    </tr>\n",
       "    <tr>\n",
       "      <th>10</th>\n",
       "      <td>ADM</td>\n",
       "      <td>3.544830</td>\n",
       "      <td>Consumer Goods</td>\n",
       "      <td>Farm Products</td>\n",
       "    </tr>\n",
       "    <tr>\n",
       "      <th>11</th>\n",
       "      <td>SWM</td>\n",
       "      <td>3.322497</td>\n",
       "      <td>Consumer Goods</td>\n",
       "      <td>Paper &amp; Paper Products</td>\n",
       "    </tr>\n",
       "    <tr>\n",
       "      <th>12</th>\n",
       "      <td>JASO</td>\n",
       "      <td>3.076849</td>\n",
       "      <td>Technology</td>\n",
       "      <td>Semiconductor</td>\n",
       "    </tr>\n",
       "    <tr>\n",
       "      <th>13</th>\n",
       "      <td>APO</td>\n",
       "      <td>2.852018</td>\n",
       "      <td>Financial</td>\n",
       "      <td>Diversified Investments</td>\n",
       "    </tr>\n",
       "    <tr>\n",
       "      <th>14</th>\n",
       "      <td>GRPO</td>\n",
       "      <td>2.327414</td>\n",
       "      <td>Consumer Goods</td>\n",
       "      <td>Photographic Equipment &amp; Supplies</td>\n",
       "    </tr>\n",
       "    <tr>\n",
       "      <th>15</th>\n",
       "      <td>JNPR</td>\n",
       "      <td>2.175028</td>\n",
       "      <td>Technology</td>\n",
       "      <td>Networking &amp; Communication Devices</td>\n",
       "    </tr>\n",
       "    <tr>\n",
       "      <th>16</th>\n",
       "      <td>CG</td>\n",
       "      <td>1.927715</td>\n",
       "      <td>Financial</td>\n",
       "      <td>Asset Management</td>\n",
       "    </tr>\n",
       "    <tr>\n",
       "      <th>17</th>\n",
       "      <td>Cash+Dividends</td>\n",
       "      <td>1.233980</td>\n",
       "      <td>Cash</td>\n",
       "      <td>Cash</td>\n",
       "    </tr>\n",
       "    <tr>\n",
       "      <th>18</th>\n",
       "      <td>HPE</td>\n",
       "      <td>0.755264</td>\n",
       "      <td>Technology</td>\n",
       "      <td>Information Technology</td>\n",
       "    </tr>\n",
       "    <tr>\n",
       "      <th>19</th>\n",
       "      <td>FEYE</td>\n",
       "      <td>0.685317</td>\n",
       "      <td>Technology</td>\n",
       "      <td>Application Software</td>\n",
       "    </tr>\n",
       "  </tbody>\n",
       "</table>\n",
       "</div>"
      ],
      "text/plain": [
       "            Ticker     Weight          Sector  \\\n",
       "0             VGLT  18.158822   Long US Bonds   \n",
       "1               TM  11.410571  Consumer Goods   \n",
       "2              VOO  10.512498       Blend ETF   \n",
       "3             GRMN   7.538072      Technology   \n",
       "4              IBM   6.475123      Technology   \n",
       "5             SGOL   5.355966   Commodity ETF   \n",
       "6             QCOM   5.272695      Technology   \n",
       "7              GLD   5.251877   Commodity ETF   \n",
       "8             CHKP   4.342979      Technology   \n",
       "9              VEA   3.780486       Blend ETF   \n",
       "10             ADM   3.544830  Consumer Goods   \n",
       "11             SWM   3.322497  Consumer Goods   \n",
       "12            JASO   3.076849      Technology   \n",
       "13             APO   2.852018       Financial   \n",
       "14            GRPO   2.327414  Consumer Goods   \n",
       "15            JNPR   2.175028      Technology   \n",
       "16              CG   1.927715       Financial   \n",
       "17  Cash+Dividends   1.233980            Cash   \n",
       "18             HPE   0.755264      Technology   \n",
       "19            FEYE   0.685317      Technology   \n",
       "\n",
       "                              Industry  \n",
       "0          Vanguard Long-Term Treasury  \n",
       "1                   Auto Manufacturers  \n",
       "2                     Vanguard S&P 500  \n",
       "3   Scientific & Technical Instruments  \n",
       "4      Information Technology Services  \n",
       "5                  ETF Precious Metals  \n",
       "6              Communication Equipment  \n",
       "7             SPDR Precious Metals ETF  \n",
       "8         Security Software & Services  \n",
       "9                        Vanguard FTSE  \n",
       "10                       Farm Products  \n",
       "11              Paper & Paper Products  \n",
       "12                       Semiconductor  \n",
       "13             Diversified Investments  \n",
       "14   Photographic Equipment & Supplies  \n",
       "15  Networking & Communication Devices  \n",
       "16                    Asset Management  \n",
       "17                                Cash  \n",
       "18              Information Technology  \n",
       "19                Application Software  "
      ]
     },
     "execution_count": 434,
     "metadata": {},
     "output_type": "execute_result"
    }
   ],
   "source": [
    "distribution.reset_index(inplace=True)\n",
    "distribution = distribution.rename(columns={\"index\":\"Ticker\"})\n",
    "distribution"
   ]
  },
  {
   "cell_type": "code",
   "execution_count": 435,
   "metadata": {},
   "outputs": [
    {
     "data": {
      "text/html": [
       "<div>\n",
       "<style>\n",
       "    .dataframe thead tr:only-child th {\n",
       "        text-align: right;\n",
       "    }\n",
       "\n",
       "    .dataframe thead th {\n",
       "        text-align: left;\n",
       "    }\n",
       "\n",
       "    .dataframe tbody tr th {\n",
       "        vertical-align: top;\n",
       "    }\n",
       "</style>\n",
       "<table border=\"1\" class=\"dataframe\">\n",
       "  <thead>\n",
       "    <tr style=\"text-align: right;\">\n",
       "      <th></th>\n",
       "      <th>Weight</th>\n",
       "    </tr>\n",
       "    <tr>\n",
       "      <th>Sector</th>\n",
       "      <th></th>\n",
       "    </tr>\n",
       "  </thead>\n",
       "  <tbody>\n",
       "    <tr>\n",
       "      <th>Blend ETF</th>\n",
       "      <td>14.292984</td>\n",
       "    </tr>\n",
       "    <tr>\n",
       "      <th>Cash</th>\n",
       "      <td>1.233980</td>\n",
       "    </tr>\n",
       "    <tr>\n",
       "      <th>Commodity ETF</th>\n",
       "      <td>10.607843</td>\n",
       "    </tr>\n",
       "    <tr>\n",
       "      <th>Consumer Goods</th>\n",
       "      <td>20.605312</td>\n",
       "    </tr>\n",
       "    <tr>\n",
       "      <th>Financial</th>\n",
       "      <td>4.779733</td>\n",
       "    </tr>\n",
       "    <tr>\n",
       "      <th>Long US Bonds</th>\n",
       "      <td>18.158822</td>\n",
       "    </tr>\n",
       "    <tr>\n",
       "      <th>Technology</th>\n",
       "      <td>30.321327</td>\n",
       "    </tr>\n",
       "  </tbody>\n",
       "</table>\n",
       "</div>"
      ],
      "text/plain": [
       "                   Weight\n",
       "Sector                   \n",
       "Blend ETF       14.292984\n",
       "Cash             1.233980\n",
       "Commodity ETF   10.607843\n",
       "Consumer Goods  20.605312\n",
       "Financial        4.779733\n",
       "Long US Bonds   18.158822\n",
       "Technology      30.321327"
      ]
     },
     "execution_count": 435,
     "metadata": {},
     "output_type": "execute_result"
    }
   ],
   "source": [
    "group_by_sec = distribution.groupby(\"Sector\").sum()\n",
    "group_by_sec"
   ]
  },
  {
   "cell_type": "code",
   "execution_count": 436,
   "metadata": {},
   "outputs": [
    {
     "data": {
      "text/plain": [
       "<matplotlib.axes._subplots.AxesSubplot at 0x16da9450>"
      ]
     },
     "execution_count": 436,
     "metadata": {},
     "output_type": "execute_result"
    },
    {
     "data": {
      "image/png": "[encoded data removed]",
      "text/plain": [
       "<matplotlib.figure.Figure at 0x16d99550>"
      ]
     },
     "metadata": {},
     "output_type": "display_data"
    }
   ],
   "source": [
    "group_by_sec.sort_values(by=\"Weight\").plot(kind='barh', figsize=(10, 6), legend=False)"
   ]
  },
  {
   "cell_type": "code",
   "execution_count": 438,
   "metadata": {},
   "outputs": [],
   "source": [
    "distribution.to_csv(\"distribution.csv\")"
   ]
  },
  {
   "cell_type": "code",
   "execution_count": 439,
   "metadata": {},
   "outputs": [
    {
     "data": {
      "text/html": [
       "<div>\n",
       "<style>\n",
       "    .dataframe thead tr:only-child th {\n",
       "        text-align: right;\n",
       "    }\n",
       "\n",
       "    .dataframe thead th {\n",
       "        text-align: left;\n",
       "    }\n",
       "\n",
       "    .dataframe tbody tr th {\n",
       "        vertical-align: top;\n",
       "    }\n",
       "</style>\n",
       "<table border=\"1\" class=\"dataframe\">\n",
       "  <thead>\n",
       "    <tr style=\"text-align: right;\">\n",
       "      <th></th>\n",
       "      <th>Ticker</th>\n",
       "      <th>Weight</th>\n",
       "      <th>Sector</th>\n",
       "      <th>Industry</th>\n",
       "    </tr>\n",
       "  </thead>\n",
       "  <tbody>\n",
       "    <tr>\n",
       "      <th>0</th>\n",
       "      <td>VGLT</td>\n",
       "      <td>18.158822</td>\n",
       "      <td>Long US Bonds</td>\n",
       "      <td>Vanguard Long-Term Treasury</td>\n",
       "    </tr>\n",
       "    <tr>\n",
       "      <th>1</th>\n",
       "      <td>TM</td>\n",
       "      <td>11.410571</td>\n",
       "      <td>Consumer Goods</td>\n",
       "      <td>Auto Manufacturers</td>\n",
       "    </tr>\n",
       "    <tr>\n",
       "      <th>2</th>\n",
       "      <td>VOO</td>\n",
       "      <td>10.512498</td>\n",
       "      <td>Blend ETF</td>\n",
       "      <td>Vanguard S&amp;P 500</td>\n",
       "    </tr>\n",
       "    <tr>\n",
       "      <th>3</th>\n",
       "      <td>GRMN</td>\n",
       "      <td>7.538072</td>\n",
       "      <td>Technology</td>\n",
       "      <td>Scientific &amp; Technical Instruments</td>\n",
       "    </tr>\n",
       "    <tr>\n",
       "      <th>4</th>\n",
       "      <td>IBM</td>\n",
       "      <td>6.475123</td>\n",
       "      <td>Technology</td>\n",
       "      <td>Information Technology Services</td>\n",
       "    </tr>\n",
       "    <tr>\n",
       "      <th>5</th>\n",
       "      <td>SGOL</td>\n",
       "      <td>5.355966</td>\n",
       "      <td>Commodity ETF</td>\n",
       "      <td>ETF Precious Metals</td>\n",
       "    </tr>\n",
       "    <tr>\n",
       "      <th>6</th>\n",
       "      <td>QCOM</td>\n",
       "      <td>5.272695</td>\n",
       "      <td>Technology</td>\n",
       "      <td>Communication Equipment</td>\n",
       "    </tr>\n",
       "    <tr>\n",
       "      <th>7</th>\n",
       "      <td>GLD</td>\n",
       "      <td>5.251877</td>\n",
       "      <td>Commodity ETF</td>\n",
       "      <td>SPDR Precious Metals ETF</td>\n",
       "    </tr>\n",
       "    <tr>\n",
       "      <th>8</th>\n",
       "      <td>CHKP</td>\n",
       "      <td>4.342979</td>\n",
       "      <td>Technology</td>\n",
       "      <td>Security Software &amp; Services</td>\n",
       "    </tr>\n",
       "    <tr>\n",
       "      <th>9</th>\n",
       "      <td>VEA</td>\n",
       "      <td>3.780486</td>\n",
       "      <td>Blend ETF</td>\n",
       "      <td>Vanguard FTSE</td>\n",
       "    </tr>\n",
       "    <tr>\n",
       "      <th>10</th>\n",
       "      <td>ADM</td>\n",
       "      <td>3.544830</td>\n",
       "      <td>Consumer Goods</td>\n",
       "      <td>Farm Products</td>\n",
       "    </tr>\n",
       "    <tr>\n",
       "      <th>11</th>\n",
       "      <td>SWM</td>\n",
       "      <td>3.322497</td>\n",
       "      <td>Consumer Goods</td>\n",
       "      <td>Paper &amp; Paper Products</td>\n",
       "    </tr>\n",
       "    <tr>\n",
       "      <th>12</th>\n",
       "      <td>JASO</td>\n",
       "      <td>3.076849</td>\n",
       "      <td>Technology</td>\n",
       "      <td>Semiconductor</td>\n",
       "    </tr>\n",
       "    <tr>\n",
       "      <th>13</th>\n",
       "      <td>APO</td>\n",
       "      <td>2.852018</td>\n",
       "      <td>Financial</td>\n",
       "      <td>Diversified Investments</td>\n",
       "    </tr>\n",
       "    <tr>\n",
       "      <th>14</th>\n",
       "      <td>GRPO</td>\n",
       "      <td>2.327414</td>\n",
       "      <td>Consumer Goods</td>\n",
       "      <td>Photographic Equipment &amp; Supplies</td>\n",
       "    </tr>\n",
       "    <tr>\n",
       "      <th>15</th>\n",
       "      <td>JNPR</td>\n",
       "      <td>2.175028</td>\n",
       "      <td>Technology</td>\n",
       "      <td>Networking &amp; Communication Devices</td>\n",
       "    </tr>\n",
       "    <tr>\n",
       "      <th>16</th>\n",
       "      <td>CG</td>\n",
       "      <td>1.927715</td>\n",
       "      <td>Financial</td>\n",
       "      <td>Asset Management</td>\n",
       "    </tr>\n",
       "    <tr>\n",
       "      <th>17</th>\n",
       "      <td>Cash+Dividends</td>\n",
       "      <td>1.233980</td>\n",
       "      <td>Cash</td>\n",
       "      <td>Cash</td>\n",
       "    </tr>\n",
       "    <tr>\n",
       "      <th>18</th>\n",
       "      <td>HPE</td>\n",
       "      <td>0.755264</td>\n",
       "      <td>Technology</td>\n",
       "      <td>Information Technology</td>\n",
       "    </tr>\n",
       "    <tr>\n",
       "      <th>19</th>\n",
       "      <td>FEYE</td>\n",
       "      <td>0.685317</td>\n",
       "      <td>Technology</td>\n",
       "      <td>Application Software</td>\n",
       "    </tr>\n",
       "  </tbody>\n",
       "</table>\n",
       "</div>"
      ],
      "text/plain": [
       "            Ticker     Weight          Sector  \\\n",
       "0             VGLT  18.158822   Long US Bonds   \n",
       "1               TM  11.410571  Consumer Goods   \n",
       "2              VOO  10.512498       Blend ETF   \n",
       "3             GRMN   7.538072      Technology   \n",
       "4              IBM   6.475123      Technology   \n",
       "5             SGOL   5.355966   Commodity ETF   \n",
       "6             QCOM   5.272695      Technology   \n",
       "7              GLD   5.251877   Commodity ETF   \n",
       "8             CHKP   4.342979      Technology   \n",
       "9              VEA   3.780486       Blend ETF   \n",
       "10             ADM   3.544830  Consumer Goods   \n",
       "11             SWM   3.322497  Consumer Goods   \n",
       "12            JASO   3.076849      Technology   \n",
       "13             APO   2.852018       Financial   \n",
       "14            GRPO   2.327414  Consumer Goods   \n",
       "15            JNPR   2.175028      Technology   \n",
       "16              CG   1.927715       Financial   \n",
       "17  Cash+Dividends   1.233980            Cash   \n",
       "18             HPE   0.755264      Technology   \n",
       "19            FEYE   0.685317      Technology   \n",
       "\n",
       "                              Industry  \n",
       "0          Vanguard Long-Term Treasury  \n",
       "1                   Auto Manufacturers  \n",
       "2                     Vanguard S&P 500  \n",
       "3   Scientific & Technical Instruments  \n",
       "4      Information Technology Services  \n",
       "5                  ETF Precious Metals  \n",
       "6              Communication Equipment  \n",
       "7             SPDR Precious Metals ETF  \n",
       "8         Security Software & Services  \n",
       "9                        Vanguard FTSE  \n",
       "10                       Farm Products  \n",
       "11              Paper & Paper Products  \n",
       "12                       Semiconductor  \n",
       "13             Diversified Investments  \n",
       "14   Photographic Equipment & Supplies  \n",
       "15  Networking & Communication Devices  \n",
       "16                    Asset Management  \n",
       "17                                Cash  \n",
       "18              Information Technology  \n",
       "19                Application Software  "
      ]
     },
     "execution_count": 439,
     "metadata": {},
     "output_type": "execute_result"
    }
   ],
   "source": [
    "distribution"
   ]
  },
  {
   "cell_type": "code",
   "execution_count": null,
   "metadata": {
    "collapsed": true
   },
   "outputs": [],
   "source": []
  }
 ],
 "metadata": {
  "kernelspec": {
   "display_name": "Python 3",
   "language": "python",
   "name": "python3"
  },
  "language_info": {
   "codemirror_mode": {
    "name": "ipython",
    "version": 3
   },
   "file_extension": ".py",
   "mimetype": "text/x-python",
   "name": "python",
   "nbconvert_exporter": "python",
   "pygments_lexer": "ipython3",
   "version": "3.6.1"
  }
 },
 "nbformat": 4,
 "nbformat_minor": 2
}
